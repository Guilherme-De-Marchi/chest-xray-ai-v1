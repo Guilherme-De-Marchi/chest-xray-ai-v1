{
 "cells": [
  {
   "cell_type": "code",
   "execution_count": 1,
   "id": "22159663",
   "metadata": {
    "_cell_guid": "b1076dfc-b9ad-4769-8c92-a6c4dae69d19",
    "_kg_hide-input": false,
    "_kg_hide-output": false,
    "_uuid": "8f2839f25d086af736a60e9eeb907d3b93b6e0e5",
    "execution": {
     "iopub.execute_input": "2023-03-16T14:48:38.142529Z",
     "iopub.status.busy": "2023-03-16T14:48:38.141562Z",
     "iopub.status.idle": "2023-03-16T14:48:43.189551Z",
     "shell.execute_reply": "2023-03-16T14:48:43.183974Z"
    },
    "papermill": {
     "duration": 5.059135,
     "end_time": "2023-03-16T14:48:43.191965",
     "exception": false,
     "start_time": "2023-03-16T14:48:38.132830",
     "status": "completed"
    },
    "tags": []
   },
   "outputs": [
    {
     "name": "stdout",
     "output_type": "stream",
     "text": [
      "Status [1 0]\n",
      "Filecode ['CHNCXR_0499_1' 'CHNCXR_0120_0' 'CHNCXR_0192_0' 'CHNCXR_0548_1'\n",
      " 'CHNCXR_0119_0' 'CHNCXR_0403_1' 'CHNCXR_0368_1' 'CHNCXR_0190_0'\n",
      " 'CHNCXR_0615_1' 'CHNCXR_0047_0' 'CHNCXR_0260_0' 'CHNCXR_0150_0'\n",
      " 'CHNCXR_0313_0' 'CHNCXR_0148_0' 'CHNCXR_0306_0' 'CHNCXR_0416_1'\n",
      " 'CHNCXR_0432_1' 'CHNCXR_0444_1' 'CHNCXR_0031_0' 'CHNCXR_0307_0'\n",
      " 'CHNCXR_0335_1' 'CHNCXR_0404_1' 'CHNCXR_0083_0' 'CHNCXR_0537_1'\n",
      " 'CHNCXR_0016_0' 'CHNCXR_0607_1' 'CHNCXR_0637_1' 'CHNCXR_0518_1'\n",
      " 'CHNCXR_0396_1' 'CHNCXR_0053_0' 'CHNCXR_0097_0' 'CHNCXR_0479_1'\n",
      " 'CHNCXR_0470_1' 'CHNCXR_0301_0' 'CHNCXR_0135_0' 'CHNCXR_0189_0'\n",
      " 'CHNCXR_0218_0' 'CHNCXR_0036_0' 'CHNCXR_0002_0' 'CHNCXR_0612_1'\n",
      " 'CHNCXR_0431_1' 'CHNCXR_0066_0' 'CHNCXR_0593_1' 'CHNCXR_0442_1'\n",
      " 'CHNCXR_0210_0' 'CHNCXR_0391_1' 'CHNCXR_0567_1' 'CHNCXR_0255_0'\n",
      " 'CHNCXR_0237_0' 'CHNCXR_0235_0' 'CHNCXR_0505_1' 'CHNCXR_0188_0'\n",
      " 'CHNCXR_0059_0' 'CHNCXR_0466_1' 'CHNCXR_0349_1' 'CHNCXR_0455_1'\n",
      " 'CHNCXR_0336_1' 'CHNCXR_0642_1' 'CHNCXR_0350_1' 'CHNCXR_0498_1'\n",
      " 'CHNCXR_0158_0' 'CHNCXR_0631_1' 'CHNCXR_0358_1' 'CHNCXR_0394_1'\n",
      " 'CHNCXR_0209_0' 'CHNCXR_0450_1' 'CHNCXR_0173_0' 'CHNCXR_0021_0'\n",
      " 'CHNCXR_0359_1' 'CHNCXR_0078_0' 'CHNCXR_0543_1' 'CHNCXR_0207_0'\n",
      " 'CHNCXR_0531_1' 'CHNCXR_0388_1' 'CHNCXR_0472_1' 'CHNCXR_0211_0'\n",
      " 'CHNCXR_0250_0' 'CHNCXR_0011_0' 'CHNCXR_0224_0' 'CHNCXR_0468_1'\n",
      " 'CHNCXR_0109_0' 'CHNCXR_0445_1' 'CHNCXR_0343_1' 'CHNCXR_0268_0'\n",
      " 'CHNCXR_0421_1' 'CHNCXR_0519_1' 'CHNCXR_0290_0' 'CHNCXR_0163_0'\n",
      " 'CHNCXR_0634_1' 'CHNCXR_0503_1' 'CHNCXR_0130_0' 'CHNCXR_0275_0'\n",
      " 'CHNCXR_0535_1' 'CHNCXR_0458_1' 'CHNCXR_0316_0' 'CHNCXR_0339_1'\n",
      " 'CHNCXR_0549_1' 'CHNCXR_0515_1' 'CHNCXR_0643_1' 'CHNCXR_0384_1'\n",
      " 'CHNCXR_0281_0' 'CHNCXR_0618_1' 'CHNCXR_0453_1' 'CHNCXR_0490_1'\n",
      " 'CHNCXR_0175_0' 'CHNCXR_0054_0' 'CHNCXR_0124_0' 'CHNCXR_0327_1'\n",
      " 'CHNCXR_0420_1' 'CHNCXR_0402_1' 'CHNCXR_0380_1' 'CHNCXR_0174_0'\n",
      " 'CHNCXR_0258_0' 'CHNCXR_0532_1' 'CHNCXR_0132_0' 'CHNCXR_0497_1'\n",
      " 'CHNCXR_0558_1' 'CHNCXR_0223_0' 'CHNCXR_0326_0' 'CHNCXR_0469_1'\n",
      " 'CHNCXR_0411_1' 'CHNCXR_0337_1' 'CHNCXR_0292_0' 'CHNCXR_0029_0'\n",
      " 'CHNCXR_0630_1' 'CHNCXR_0493_1' 'CHNCXR_0232_0' 'CHNCXR_0608_1'\n",
      " 'CHNCXR_0122_0' 'CHNCXR_0302_0' 'CHNCXR_0284_0' 'CHNCXR_0099_0'\n",
      " 'CHNCXR_0314_0' 'CHNCXR_0227_0' 'CHNCXR_0640_1' 'CHNCXR_0172_0'\n",
      " 'CHNCXR_0079_0' 'CHNCXR_0578_1' 'CHNCXR_0315_0' 'CHNCXR_0408_1'\n",
      " 'CHNCXR_0609_1' 'CHNCXR_0033_0' 'CHNCXR_0576_1' 'CHNCXR_0573_1'\n",
      " 'CHNCXR_0341_1' 'CHNCXR_0184_0' 'CHNCXR_0474_1' 'CHNCXR_0425_1'\n",
      " 'CHNCXR_0586_1' 'CHNCXR_0169_0' 'CHNCXR_0242_0' 'CHNCXR_0193_0'\n",
      " 'CHNCXR_0283_0' 'CHNCXR_0504_1' 'CHNCXR_0430_1' 'CHNCXR_0551_1'\n",
      " 'CHNCXR_0584_1' 'CHNCXR_0186_0' 'CHNCXR_0527_1' 'CHNCXR_0319_0'\n",
      " 'CHNCXR_0118_0' 'CHNCXR_0398_1' 'CHNCXR_0530_1' 'CHNCXR_0389_1'\n",
      " 'CHNCXR_0087_0' 'CHNCXR_0276_0' 'CHNCXR_0206_0' 'CHNCXR_0003_0'\n",
      " 'CHNCXR_0656_1' 'CHNCXR_0422_1' 'CHNCXR_0308_0' 'CHNCXR_0034_0'\n",
      " 'CHNCXR_0303_0' 'CHNCXR_0233_0' 'CHNCXR_0385_1' 'CHNCXR_0446_1'\n",
      " 'CHNCXR_0639_1' 'CHNCXR_0406_1' 'CHNCXR_0334_1' 'CHNCXR_0116_0'\n",
      " 'CHNCXR_0048_0' 'CHNCXR_0574_1' 'CHNCXR_0266_0' 'CHNCXR_0141_0'\n",
      " 'CHNCXR_0476_1' 'CHNCXR_0030_0' 'CHNCXR_0463_1' 'CHNCXR_0565_1'\n",
      " 'CHNCXR_0293_0' 'CHNCXR_0171_0' 'CHNCXR_0611_1' 'CHNCXR_0057_0'\n",
      " 'CHNCXR_0589_1' 'CHNCXR_0252_0' 'CHNCXR_0557_1' 'CHNCXR_0111_0'\n",
      " 'CHNCXR_0219_0' 'CHNCXR_0001_0' 'CHNCXR_0524_1' 'CHNCXR_0457_1'\n",
      " 'CHNCXR_0204_0' 'CHNCXR_0494_1' 'CHNCXR_0113_0' 'CHNCXR_0221_0'\n",
      " 'CHNCXR_0342_1' 'CHNCXR_0312_0' 'CHNCXR_0371_1' 'CHNCXR_0638_1'\n",
      " 'CHNCXR_0271_0' 'CHNCXR_0127_0' 'CHNCXR_0424_1' 'CHNCXR_0379_1'\n",
      " 'CHNCXR_0546_1' 'CHNCXR_0304_0' 'CHNCXR_0137_0' 'CHNCXR_0330_1'\n",
      " 'CHNCXR_0072_0' 'CHNCXR_0652_1' 'CHNCXR_0279_0' 'CHNCXR_0152_0'\n",
      " 'CHNCXR_0295_0' 'CHNCXR_0106_0' 'CHNCXR_0288_0' 'CHNCXR_0104_0'\n",
      " 'CHNCXR_0661_1' 'CHNCXR_0594_1' 'CHNCXR_0365_1' 'CHNCXR_0234_0'\n",
      " 'CHNCXR_0363_1' 'CHNCXR_0068_0' 'CHNCXR_0009_0' 'CHNCXR_0215_0'\n",
      " 'CHNCXR_0561_1' 'CHNCXR_0521_1' 'CHNCXR_0028_0' 'CHNCXR_0018_0'\n",
      " 'CHNCXR_0264_0' 'CHNCXR_0017_0' 'CHNCXR_0091_0' 'CHNCXR_0644_1'\n",
      " 'CHNCXR_0195_0' 'CHNCXR_0032_0' 'CHNCXR_0318_0' 'CHNCXR_0088_0'\n",
      " 'CHNCXR_0456_1' 'CHNCXR_0216_0' 'CHNCXR_0157_0' 'CHNCXR_0244_0'\n",
      " 'CHNCXR_0438_1' 'CHNCXR_0452_1' 'CHNCXR_0286_0' 'CHNCXR_0042_0'\n",
      " 'CHNCXR_0269_0' 'CHNCXR_0362_1' 'CHNCXR_0627_1' 'CHNCXR_0614_1'\n",
      " 'CHNCXR_0178_0' 'CHNCXR_0164_0' 'CHNCXR_0012_0' 'CHNCXR_0300_0'\n",
      " 'CHNCXR_0489_1' 'CHNCXR_0277_0' 'CHNCXR_0090_0' 'CHNCXR_0626_1'\n",
      " 'CHNCXR_0067_0' 'CHNCXR_0407_1' 'CHNCXR_0475_1' 'CHNCXR_0051_0'\n",
      " 'CHNCXR_0511_1' 'CHNCXR_0328_1' 'CHNCXR_0448_1' 'CHNCXR_0629_1'\n",
      " 'CHNCXR_0340_1' 'CHNCXR_0357_1' 'CHNCXR_0229_0' 'CHNCXR_0413_1'\n",
      " 'CHNCXR_0482_1' 'CHNCXR_0015_0' 'CHNCXR_0062_0' 'CHNCXR_0473_1'\n",
      " 'CHNCXR_0418_1' 'CHNCXR_0628_1' 'CHNCXR_0179_0' 'CHNCXR_0044_0'\n",
      " 'CHNCXR_0367_1' 'CHNCXR_0294_0' 'CHNCXR_0485_1' 'CHNCXR_0191_0'\n",
      " 'CHNCXR_0351_1' 'CHNCXR_0043_0' 'CHNCXR_0056_0' 'CHNCXR_0082_0'\n",
      " 'CHNCXR_0154_0' 'CHNCXR_0155_0' 'CHNCXR_0239_0' 'CHNCXR_0160_0'\n",
      " 'CHNCXR_0212_0' 'CHNCXR_0246_0' 'CHNCXR_0563_1' 'CHNCXR_0311_0'\n",
      " 'CHNCXR_0436_1' 'CHNCXR_0588_1' 'CHNCXR_0542_1' 'CHNCXR_0484_1'\n",
      " 'CHNCXR_0071_0' 'CHNCXR_0386_1' 'CHNCXR_0577_1' 'CHNCXR_0142_0'\n",
      " 'CHNCXR_0220_0' 'CHNCXR_0323_0' 'CHNCXR_0556_1' 'CHNCXR_0112_0'\n",
      " 'CHNCXR_0433_1' 'CHNCXR_0222_0' 'CHNCXR_0401_1' 'CHNCXR_0346_1'\n",
      " 'CHNCXR_0075_0' 'CHNCXR_0372_1' 'CHNCXR_0265_0' 'CHNCXR_0196_0'\n",
      " 'CHNCXR_0610_1' 'CHNCXR_0131_0' 'CHNCXR_0262_0' 'CHNCXR_0392_1'\n",
      " 'CHNCXR_0370_1' 'CHNCXR_0310_0' 'CHNCXR_0022_0' 'CHNCXR_0309_0'\n",
      " 'CHNCXR_0427_1' 'CHNCXR_0361_1' 'CHNCXR_0605_1' 'CHNCXR_0377_1'\n",
      " 'CHNCXR_0426_1' 'CHNCXR_0478_1' 'CHNCXR_0488_1' 'CHNCXR_0333_1'\n",
      " 'CHNCXR_0101_0' 'CHNCXR_0632_1' 'CHNCXR_0449_1' 'CHNCXR_0617_1'\n",
      " 'CHNCXR_0180_0' 'CHNCXR_0412_1' 'CHNCXR_0055_0' 'CHNCXR_0198_0'\n",
      " 'CHNCXR_0183_0' 'CHNCXR_0516_1' 'CHNCXR_0512_1' 'CHNCXR_0324_0'\n",
      " 'CHNCXR_0240_0' 'CHNCXR_0136_0' 'CHNCXR_0274_0' 'CHNCXR_0329_1'\n",
      " 'CHNCXR_0024_0' 'CHNCXR_0454_1' 'CHNCXR_0045_0' 'CHNCXR_0375_1'\n",
      " 'CHNCXR_0569_1' 'CHNCXR_0641_1' 'CHNCXR_0259_0' 'CHNCXR_0320_0'\n",
      " 'CHNCXR_0213_0' 'CHNCXR_0070_0' 'CHNCXR_0325_0' 'CHNCXR_0522_1'\n",
      " 'CHNCXR_0027_0' 'CHNCXR_0506_1' 'CHNCXR_0134_0' 'CHNCXR_0381_1'\n",
      " 'CHNCXR_0063_0' 'CHNCXR_0287_0' 'CHNCXR_0126_0' 'CHNCXR_0583_1'\n",
      " 'CHNCXR_0538_1' 'CHNCXR_0039_0' 'CHNCXR_0165_0' 'CHNCXR_0331_1'\n",
      " 'CHNCXR_0200_0' 'CHNCXR_0019_0' 'CHNCXR_0481_1' 'CHNCXR_0167_0'\n",
      " 'CHNCXR_0061_0' 'CHNCXR_0374_1' 'CHNCXR_0086_0' 'CHNCXR_0108_0'\n",
      " 'CHNCXR_0060_0' 'CHNCXR_0317_0' 'CHNCXR_0273_0' 'CHNCXR_0185_0'\n",
      " 'CHNCXR_0272_0' 'CHNCXR_0599_1' 'CHNCXR_0508_1' 'CHNCXR_0257_0'\n",
      " 'CHNCXR_0500_1' 'CHNCXR_0238_0' 'CHNCXR_0005_0' 'CHNCXR_0013_0'\n",
      " 'CHNCXR_0575_1' 'CHNCXR_0345_1' 'CHNCXR_0451_1' 'CHNCXR_0023_0'\n",
      " 'CHNCXR_0006_0' 'CHNCXR_0187_0' 'CHNCXR_0572_1' 'CHNCXR_0509_1'\n",
      " 'CHNCXR_0378_1' 'CHNCXR_0373_1' 'CHNCXR_0507_1' 'CHNCXR_0395_1'\n",
      " 'CHNCXR_0621_1' 'CHNCXR_0248_0' 'CHNCXR_0050_0' 'CHNCXR_0397_1'\n",
      " 'CHNCXR_0299_0' 'CHNCXR_0510_1' 'CHNCXR_0486_1' 'CHNCXR_0585_1'\n",
      " 'CHNCXR_0400_1' 'CHNCXR_0344_1' 'CHNCXR_0037_0' 'CHNCXR_0014_0'\n",
      " 'CHNCXR_0477_1' 'CHNCXR_0038_0' 'CHNCXR_0415_1' 'CHNCXR_0434_1'\n",
      " 'CHNCXR_0076_0' 'CHNCXR_0241_0' 'CHNCXR_0471_1' 'CHNCXR_0125_0'\n",
      " 'CHNCXR_0635_1' 'CHNCXR_0540_1' 'CHNCXR_0554_1' 'CHNCXR_0623_1'\n",
      " 'CHNCXR_0366_1' 'CHNCXR_0305_0' 'CHNCXR_0525_1' 'CHNCXR_0110_0'\n",
      " 'CHNCXR_0231_0' 'CHNCXR_0592_1' 'CHNCXR_0089_0' 'CHNCXR_0168_0'\n",
      " 'CHNCXR_0247_0' 'CHNCXR_0570_1' 'CHNCXR_0008_0' 'CHNCXR_0390_1'\n",
      " 'CHNCXR_0613_1' 'CHNCXR_0600_1' 'CHNCXR_0353_1' 'CHNCXR_0114_0'\n",
      " 'CHNCXR_0046_0' 'CHNCXR_0267_0' 'CHNCXR_0480_1' 'CHNCXR_0487_1'\n",
      " 'CHNCXR_0214_0' 'CHNCXR_0151_0' 'CHNCXR_0251_0' 'CHNCXR_0653_1'\n",
      " 'CHNCXR_0501_1' 'CHNCXR_0382_1' 'CHNCXR_0616_1' 'CHNCXR_0107_0'\n",
      " 'CHNCXR_0467_1' 'CHNCXR_0553_1' 'CHNCXR_0383_1' 'CHNCXR_0270_0'\n",
      " 'CHNCXR_0491_1' 'CHNCXR_0236_0' 'CHNCXR_0322_0' 'CHNCXR_0128_0'\n",
      " 'CHNCXR_0562_1' 'CHNCXR_0568_1' 'CHNCXR_0285_0' 'CHNCXR_0465_1'\n",
      " 'CHNCXR_0282_0' 'CHNCXR_0007_0' 'CHNCXR_0658_1' 'CHNCXR_0547_1'\n",
      " 'CHNCXR_0356_1' 'CHNCXR_0225_0' 'CHNCXR_0603_1' 'CHNCXR_0105_0'\n",
      " 'CHNCXR_0435_1' 'CHNCXR_0040_0' 'CHNCXR_0625_1' 'CHNCXR_0203_0'\n",
      " 'CHNCXR_0414_1' 'CHNCXR_0437_1' 'CHNCXR_0098_0' 'CHNCXR_0133_0'\n",
      " 'CHNCXR_0405_1' 'CHNCXR_0513_1' 'CHNCXR_0355_1' 'CHNCXR_0041_0'\n",
      " 'CHNCXR_0153_0' 'CHNCXR_0052_0' 'CHNCXR_0376_1' 'CHNCXR_0025_0'\n",
      " 'CHNCXR_0387_1' 'CHNCXR_0217_0' 'CHNCXR_0596_1' 'CHNCXR_0502_1'\n",
      " 'CHNCXR_0550_1' 'CHNCXR_0526_1' 'CHNCXR_0177_0' 'CHNCXR_0348_1'\n",
      " 'CHNCXR_0080_0' 'CHNCXR_0429_1' 'CHNCXR_0338_1' 'CHNCXR_0117_0'\n",
      " 'CHNCXR_0648_1' 'CHNCXR_0296_0' 'CHNCXR_0587_1' 'CHNCXR_0102_0'\n",
      " 'CHNCXR_0369_1' 'CHNCXR_0121_0' 'CHNCXR_0496_1' 'CHNCXR_0459_1'\n",
      " 'CHNCXR_0399_1' 'CHNCXR_0058_0' 'CHNCXR_0646_1' 'CHNCXR_0461_1'\n",
      " 'CHNCXR_0149_0' 'CHNCXR_0598_1' 'CHNCXR_0564_1' 'CHNCXR_0004_0'\n",
      " 'CHNCXR_0147_0' 'CHNCXR_0144_0' 'CHNCXR_0085_0' 'CHNCXR_0278_0'\n",
      " 'CHNCXR_0533_1' 'CHNCXR_0280_0' 'CHNCXR_0049_0' 'CHNCXR_0529_1'\n",
      " 'CHNCXR_0321_0' 'CHNCXR_0228_0' 'CHNCXR_0534_1' 'CHNCXR_0243_0'\n",
      " 'CHNCXR_0230_0' 'CHNCXR_0591_1' 'CHNCXR_0073_0' 'CHNCXR_0064_0'\n",
      " 'CHNCXR_0360_1' 'CHNCXR_0523_1' 'CHNCXR_0440_1' 'CHNCXR_0595_1'\n",
      " 'CHNCXR_0441_1' 'CHNCXR_0447_1' 'CHNCXR_0254_0' 'CHNCXR_0093_0'\n",
      " 'CHNCXR_0208_0' 'CHNCXR_0560_1' 'CHNCXR_0081_0' 'CHNCXR_0460_1'\n",
      " 'CHNCXR_0354_1' 'CHNCXR_0074_0' 'CHNCXR_0095_0' 'CHNCXR_0129_0'\n",
      " 'CHNCXR_0065_0' 'CHNCXR_0205_0' 'CHNCXR_0181_0' 'CHNCXR_0545_1'\n",
      " 'CHNCXR_0352_1' 'CHNCXR_0409_1' 'CHNCXR_0514_1' 'CHNCXR_0256_0'\n",
      " 'CHNCXR_0035_0' 'CHNCXR_0528_1' 'CHNCXR_0166_0' 'CHNCXR_0555_1'\n",
      " 'CHNCXR_0492_1' 'CHNCXR_0161_0' 'CHNCXR_0619_1' 'CHNCXR_0419_1'\n",
      " 'CHNCXR_0253_0' 'CHNCXR_0159_0' 'CHNCXR_0100_0' 'CHNCXR_0439_1'\n",
      " 'CHNCXR_0462_1' 'CHNCXR_0364_1' 'CHNCXR_0298_0' 'CHNCXR_0536_1'\n",
      " 'CHNCXR_0566_1' 'CHNCXR_0417_1' 'CHNCXR_0020_0' 'CHNCXR_0084_0'\n",
      " 'CHNCXR_0580_1' 'CHNCXR_0655_1' 'CHNCXR_0069_0' 'CHNCXR_0464_1'\n",
      " 'CHNCXR_0579_1' 'CHNCXR_0571_1' 'CHNCXR_0199_0' 'CHNCXR_0092_0'\n",
      " 'CHNCXR_0581_1' 'CHNCXR_0347_1' 'CHNCXR_0428_1' 'CHNCXR_0582_1'\n",
      " 'CHNCXR_0096_0' 'CHNCXR_0182_0' 'CHNCXR_0539_1' 'CHNCXR_0176_0'\n",
      " 'CHNCXR_0544_1' 'CHNCXR_0495_1' 'CHNCXR_0026_0' 'CHNCXR_0552_1'\n",
      " 'CHNCXR_0423_1' 'CHNCXR_0103_0' 'CHNCXR_0590_1' 'CHNCXR_0289_0'\n",
      " 'CHNCXR_0226_0' 'CHNCXR_0597_1' 'CHNCXR_0245_0' 'CHNCXR_0162_0'\n",
      " 'CHNCXR_0170_0' 'CHNCXR_0261_0' 'CHNCXR_0601_1' 'CHNCXR_0297_0'\n",
      " 'CHNCXR_0651_1' 'CHNCXR_0624_1' 'CHNCXR_0123_0' 'CHNCXR_0483_1'\n",
      " 'CHNCXR_0145_0' 'CHNCXR_0094_0' 'CHNCXR_0249_0' 'CHNCXR_0332_1'\n",
      " 'CHNCXR_0291_0' 'CHNCXR_0620_1' 'CHNCXR_0010_0' 'CHNCXR_0393_1'\n",
      " 'CHNCXR_0559_1' 'CHNCXR_0520_1' 'CHNCXR_0602_1' 'CHNCXR_0077_0'\n",
      " 'CHNCXR_0143_0' 'CHNCXR_0622_1' 'CHNCXR_0517_1' 'CHNCXR_0410_1'\n",
      " 'CHNCXR_0194_0' 'CHNCXR_0197_0' 'CHNCXR_0606_1' 'CHNCXR_0604_1'\n",
      " 'CHNCXR_0541_1']\n",
      "Sex [0 1]\n",
      "Age [0.25 0.19 0.24 0.46 0.2  0.32 0.1  0.34 0.4  0.45 0.06 0.17 0.61 0.3\n",
      " 0.15 0.27 0.38 0.37 0.33 0.57 0.44 0.39 0.35 0.52 0.56 0.42 0.26 0.63\n",
      " 0.36 0.67 0.31 0.68 0.78 0.43 0.55 0.28 0.22 0.23 0.18 0.29 0.21 0.49\n",
      " 0.7  0.5  0.02 0.59 0.48 0.03 0.6  0.41 0.79 0.54 0.47 0.51 0.71 0.04\n",
      " 0.53 0.64 0.58 0.01 0.62 0.05 0.69 0.74 0.75 0.65 0.07 0.89 0.08 0.16\n",
      " 0.72 0.82 0.81 0.14 0.85 0.76]\n",
      "Status        int64\n",
      "Filecode     object\n",
      "Sex           int64\n",
      "Age         float64\n",
      "dtype: object\n",
      "1    324\n",
      "0    317\n",
      "Name: Status, dtype: int64\n"
     ]
    }
   ],
   "source": [
    "# This Python 3 environment comes with many helpful analytics libraries installed\n",
    "# It is defined by the kaggle/python Docker image: https://github.com/kaggle/docker-python\n",
    "# For example, here's several helpful packages to load\n",
    "\n",
    "import numpy as np # linear algebra\n",
    "import pandas as pd # data processing, CSV file I/O (e.g. pd.read_csv)\n",
    "\n",
    "# Input data files are available in the read-only \"../input/\" directory\n",
    "# For example, running this (by clicking run or pressing Shift+Enter) will list all files under the input directory\n",
    "\n",
    "import os\n",
    "\n",
    "clean_lines = []\n",
    "for dirname, _, filenames in os.walk('/kaggle/input/chest-xray-masks-and-labels/data/Lung Segmentation/ClinicalReadings'):\n",
    "    for i in range(len(filenames)):\n",
    "        path = os.path.join(dirname, filenames[i])\n",
    "        with open(path, \"r\") as file:\n",
    "            clean_lines.append([])\n",
    "            clean_lines[i].append(filenames[i].split(\".\")[0])\n",
    "            clean_lines[i] += [line.replace(\"\\t\", \"\").replace(\"\\n\", \"\").replace(\"yrs\", \"\").replace(\"yr\", \"\") for line in file.readlines()]\n",
    "            for j in range(len(clean_lines[i])):\n",
    "                clean_lines[i][j] = \"\".join(clean_lines[i][j].rstrip().lstrip())\n",
    "                if j == 1:\n",
    "                    clean_lines[i][j] = clean_lines[i][j].split(\" \")\n",
    "#             clean_lines[i] = [clean_lines[i][0], *clean_lines[i][1], *clean_lines[i][2:]]\n",
    "            clean_lines[i] = [clean_lines[i][0], *clean_lines[i][1]]\n",
    "\n",
    "def print_unique_col_values(df):\n",
    "    for column in df:\n",
    "        print(column, df[column].unique())\n",
    "# clean_lines           \n",
    "df = pd.DataFrame(clean_lines)\n",
    "df.drop(3, axis=1, inplace=True)\n",
    "# df.drop(5, axis=1, inplace=True)\n",
    "# df.drop(6, axis=1, inplace=True)\n",
    "df.columns = [\"Filecode\", \"Sex\", \"Age\"]\n",
    "# df\n",
    "for drop_value in [\"16month\", \"64days\"]:\n",
    "    df.drop(df[df.Age == drop_value].index, inplace=True)\n",
    "df.drop(df[df.Sex == \"Patient's\"].index, inplace=True)\n",
    "\n",
    "df.Age = pd.to_numeric(df.Age, errors=\"coerce\")\n",
    "df.drop(df[df.Age != df.Age].index, inplace=True) # remove nan\n",
    "df.Age = df.Age / 100\n",
    "\n",
    "df.Sex.replace({\n",
    "    \"male\": 0,\n",
    "    \"Male\": 0,\n",
    "    \"Male,\": 0,\n",
    "    \"female\": 1,\n",
    "    \"Female\": 1,\n",
    "    \"Female,\": 1,\n",
    "    \"femal\": 1,\n",
    "}, inplace=True)\n",
    "\n",
    "df.insert(0, \"Status\", [0 for _ in range(len(df))])\n",
    "\n",
    "column = []\n",
    "for _, row in df.iterrows():\n",
    "    row.Status = int(row.Filecode[12])\n",
    "    column.append(row.Status)\n",
    "df.Status = np.array(column)\n",
    "    \n",
    "print_unique_col_values(df)\n",
    "print(df.dtypes)\n",
    "print(df.Status.value_counts())\n",
    "\n",
    "# You can write up to 20GB to the current directory (/kaggle/working/) that gets preserved as output when you create a version using \"Save & Run All\" \n",
    "# You can also write temporary files to /kaggle/temp/, but they won't be saved outside of the current session"
   ]
  },
  {
   "cell_type": "code",
   "execution_count": 2,
   "id": "8f54fd44",
   "metadata": {
    "execution": {
     "iopub.execute_input": "2023-03-16T14:48:43.202307Z",
     "iopub.status.busy": "2023-03-16T14:48:43.201959Z",
     "iopub.status.idle": "2023-03-16T14:48:43.460539Z",
     "shell.execute_reply": "2023-03-16T14:48:43.459632Z"
    },
    "papermill": {
     "duration": 0.266165,
     "end_time": "2023-03-16T14:48:43.462768",
     "exception": false,
     "start_time": "2023-03-16T14:48:43.196603",
     "status": "completed"
    },
    "tags": []
   },
   "outputs": [
    {
     "data": {
      "text/plain": [
       "<matplotlib.legend.Legend at 0x7fb9f80b1950>"
      ]
     },
     "execution_count": 2,
     "metadata": {},
     "output_type": "execute_result"
    },
    {
     "data": {
      "image/png": "[encoded data removed]",
      "text/plain": [
       "<Figure size 432x288 with 1 Axes>"
      ]
     },
     "metadata": {
      "needs_background": "light"
     },
     "output_type": "display_data"
    }
   ],
   "source": [
    "import matplotlib.pyplot as plt\n",
    "\n",
    "balanced_Status_normal = df[df.Status == 0]\n",
    "balanced_Status_anormal = df[df.Status == 1][:len(balanced_Status_normal)]\n",
    "\n",
    "plt.xlabel('Age')\n",
    "plt.ylabel('Qtt')\n",
    "plt.hist([balanced_Status_normal.Age*100, balanced_Status_anormal.Age*100], color=['green', 'red'], label=['Status=Normal', 'Status=Anormal'])\n",
    "plt.legend()"
   ]
  },
  {
   "cell_type": "code",
   "execution_count": 3,
   "id": "976409ca",
   "metadata": {
    "execution": {
     "iopub.execute_input": "2023-03-16T14:48:43.473619Z",
     "iopub.status.busy": "2023-03-16T14:48:43.473322Z",
     "iopub.status.idle": "2023-03-16T14:50:10.828351Z",
     "shell.execute_reply": "2023-03-16T14:50:10.827284Z"
    },
    "papermill": {
     "duration": 87.363172,
     "end_time": "2023-03-16T14:50:10.830956",
     "exception": false,
     "start_time": "2023-03-16T14:48:43.467784",
     "status": "completed"
    },
    "tags": []
   },
   "outputs": [],
   "source": [
    "import cv2\n",
    "\n",
    "balanced_dataset = pd.concat([balanced_Status_normal, balanced_Status_anormal])\n",
    "balanced_dataset = balanced_dataset.sample(frac=1).reset_index(drop=True)\n",
    "\n",
    "IMG_SIZE = (256,256)\n",
    "xray_folder = \"/kaggle/input/chest-xray-masks-and-labels/data/Lung Segmentation/CXR_png/\"\n",
    "masks_folder = \"/kaggle/input/chest-xray-masks-and-labels/data/Lung Segmentation/masks/\"\n",
    "X, y = [], []\n",
    "for _, row in balanced_dataset.iterrows():\n",
    "    xray_path = xray_folder+row.Filecode+\".png\"\n",
    "#     mask_path = masks_folder+row.Filecode+\"_mask.png\"\n",
    "#     img = cv2.imread(xray_path)\n",
    "#     mask = cv2.imread(mask_path, 0)\n",
    "#     X.append(cv2.resize(cv2.bitwise_and(img, img, mask=mask), IMG_SIZE))\n",
    "    X.append(cv2.resize(cv2.imread(xray_path), IMG_SIZE))\n",
    "    y.append(row.Status)"
   ]
  },
  {
   "cell_type": "code",
   "execution_count": 4,
   "id": "195787fd",
   "metadata": {
    "execution": {
     "iopub.execute_input": "2023-03-16T14:50:10.845184Z",
     "iopub.status.busy": "2023-03-16T14:50:10.844783Z",
     "iopub.status.idle": "2023-03-16T14:50:10.851508Z",
     "shell.execute_reply": "2023-03-16T14:50:10.850459Z"
    },
    "papermill": {
     "duration": 0.015786,
     "end_time": "2023-03-16T14:50:10.854012",
     "exception": false,
     "start_time": "2023-03-16T14:50:10.838226",
     "status": "completed"
    },
    "tags": []
   },
   "outputs": [],
   "source": [
    "def zoom(img, zoom_factor=.3):\n",
    "    return cv2.resize(img, None, fx=zoom_factor, fy=zoom_factor)\n",
    "\n",
    "alpha = 1\n",
    "beta = 0\n",
    "# for i in range(len(X)):\n",
    "#     X[i] = cv2.addWeighted(X[i], alpha, X[i], 0, beta)    \n",
    "#     X[i] = cv2.bitwise_not(X[i])\n",
    "#     X[i] = zoom(X[i][30:-30, 30:-30])"
   ]
  },
  {
   "cell_type": "code",
   "execution_count": 5,
   "id": "432b57fe",
   "metadata": {
    "execution": {
     "iopub.execute_input": "2023-03-16T14:50:10.866707Z",
     "iopub.status.busy": "2023-03-16T14:50:10.866280Z",
     "iopub.status.idle": "2023-03-16T14:50:11.108746Z",
     "shell.execute_reply": "2023-03-16T14:50:11.107714Z"
    },
    "papermill": {
     "duration": 0.2518,
     "end_time": "2023-03-16T14:50:11.111470",
     "exception": false,
     "start_time": "2023-03-16T14:50:10.859670",
     "status": "completed"
    },
    "tags": []
   },
   "outputs": [
    {
     "name": "stdout",
     "output_type": "stream",
     "text": [
      "1\n"
     ]
    },
    {
     "data": {
      "image/png": "[encoded data removed]",
      "text/plain": [
       "<Figure size 432x288 with 1 Axes>"
      ]
     },
     "metadata": {
      "needs_background": "light"
     },
     "output_type": "display_data"
    }
   ],
   "source": [
    "def zoom(img, zoom_factor=.3):\n",
    "    return cv2.resize(img, None, fx=zoom_factor, fy=zoom_factor)\n",
    "\n",
    "# img_test = X[20][30:-30, 30:-30]\n",
    "# plt.imshow(zoom(img_test))\n",
    "plt.imshow(X[20])\n",
    "print(y[80])"
   ]
  },
  {
   "cell_type": "code",
   "execution_count": 6,
   "id": "c50abe6c",
   "metadata": {
    "execution": {
     "iopub.execute_input": "2023-03-16T14:50:11.125011Z",
     "iopub.status.busy": "2023-03-16T14:50:11.124650Z",
     "iopub.status.idle": "2023-03-16T14:50:12.605743Z",
     "shell.execute_reply": "2023-03-16T14:50:12.604782Z"
    },
    "papermill": {
     "duration": 1.490227,
     "end_time": "2023-03-16T14:50:12.607866",
     "exception": false,
     "start_time": "2023-03-16T14:50:11.117639",
     "status": "completed"
    },
    "tags": []
   },
   "outputs": [
    {
     "data": {
      "text/plain": [
       "((507, 256, 256, 3), (127, 256, 256, 3), (507,), (127,))"
      ]
     },
     "execution_count": 6,
     "metadata": {},
     "output_type": "execute_result"
    }
   ],
   "source": [
    "X = np.array(X) / 255\n",
    "# X_ = X_[..., np.newaxis]\n",
    "y = np.array(y)\n",
    "\n",
    "from sklearn.model_selection import train_test_split\n",
    "X_train, X_test, y_train, y_test = train_test_split(X, y, test_size=0.2, random_state=5)\n",
    "\n",
    "X_train.shape, X_test.shape, y_train.shape, y_test.shape"
   ]
  },
  {
   "cell_type": "code",
   "execution_count": 7,
   "id": "4c820e53",
   "metadata": {
    "execution": {
     "iopub.execute_input": "2023-03-16T14:50:12.619560Z",
     "iopub.status.busy": "2023-03-16T14:50:12.619265Z",
     "iopub.status.idle": "2023-03-16T14:50:41.961532Z",
     "shell.execute_reply": "2023-03-16T14:50:41.960497Z"
    },
    "papermill": {
     "duration": 29.350877,
     "end_time": "2023-03-16T14:50:41.964115",
     "exception": false,
     "start_time": "2023-03-16T14:50:12.613238",
     "status": "completed"
    },
    "tags": []
   },
   "outputs": [
    {
     "name": "stdout",
     "output_type": "stream",
     "text": [
      "Epoch 1/15\n",
      "16/16 [==============================] - 8s 70ms/step - loss: 16.8182 - accuracy: 0.4931\n",
      "Epoch 2/15\n",
      "16/16 [==============================] - 1s 46ms/step - loss: 0.6542 - accuracy: 0.6134\n",
      "Epoch 3/15\n",
      "16/16 [==============================] - 1s 46ms/step - loss: 0.7010 - accuracy: 0.6746\n",
      "Epoch 4/15\n",
      "16/16 [==============================] - 1s 45ms/step - loss: 0.5585 - accuracy: 0.7239\n",
      "Epoch 5/15\n",
      "16/16 [==============================] - 1s 46ms/step - loss: 0.4993 - accuracy: 0.7653\n",
      "Epoch 6/15\n",
      "16/16 [==============================] - 1s 48ms/step - loss: 0.4741 - accuracy: 0.7811\n",
      "Epoch 7/15\n",
      "16/16 [==============================] - 1s 45ms/step - loss: 0.4630 - accuracy: 0.7949\n",
      "Epoch 8/15\n",
      "16/16 [==============================] - 1s 45ms/step - loss: 0.4369 - accuracy: 0.8107\n",
      "Epoch 9/15\n",
      "16/16 [==============================] - 1s 46ms/step - loss: 0.4084 - accuracy: 0.8264\n",
      "Epoch 10/15\n",
      "16/16 [==============================] - 1s 45ms/step - loss: 0.3982 - accuracy: 0.8481\n",
      "Epoch 11/15\n",
      "16/16 [==============================] - 1s 45ms/step - loss: 0.3896 - accuracy: 0.8225\n",
      "Epoch 12/15\n",
      "16/16 [==============================] - 1s 46ms/step - loss: 0.3533 - accuracy: 0.8501\n",
      "Epoch 13/15\n",
      "16/16 [==============================] - 1s 45ms/step - loss: 0.3671 - accuracy: 0.8383\n",
      "Epoch 14/15\n",
      "16/16 [==============================] - 1s 45ms/step - loss: 0.3331 - accuracy: 0.8462\n",
      "Epoch 15/15\n",
      "16/16 [==============================] - 1s 48ms/step - loss: 0.3085 - accuracy: 0.8580\n"
     ]
    }
   ],
   "source": [
    "from tensorflow import keras\n",
    "\n",
    "model = keras.Sequential([\n",
    "    keras.layers.Conv2D(32, (3,3), input_shape=IMG_SIZE+(3,), padding=\"same\", activation=\"relu\"),\n",
    "    keras.layers.MaxPooling2D(pool_size=(2,2)),\n",
    "    keras.layers.Dropout(.2),\n",
    "    \n",
    "    keras.layers.Conv2D(64, (3,3), padding=\"same\", activation=\"relu\"),\n",
    "    keras.layers.MaxPooling2D(pool_size=(2,2)),\n",
    "    keras.layers.Dropout(.2),\n",
    "    \n",
    "    keras.layers.Conv2D(128, (3,3), padding=\"same\", activation=\"relu\"),\n",
    "    keras.layers.MaxPooling2D(pool_size=(2,2)),\n",
    "    keras.layers.Dropout(.2),\n",
    "    \n",
    "    keras.layers.Flatten(),\n",
    "    keras.layers.Dense(512),\n",
    "    keras.layers.Dense(128),\n",
    "    keras.layers.Dense(64),\n",
    "    keras.layers.Dense(32),\n",
    "    keras.layers.Dense(16),\n",
    "    keras.layers.Dense(1, activation=\"sigmoid\"),\n",
    "])\n",
    "\n",
    "model.compile(\n",
    "    optimizer=\"adam\",\n",
    "    loss=\"binary_crossentropy\",\n",
    "    metrics=[\"accuracy\"]\n",
    ")\n",
    "\n",
    "history = model.fit(\n",
    "    x=X_train, \n",
    "    y=y_train, \n",
    "    epochs=15\n",
    ")"
   ]
  },
  {
   "cell_type": "code",
   "execution_count": 8,
   "id": "d5c70d1f",
   "metadata": {
    "execution": {
     "iopub.execute_input": "2023-03-16T14:50:41.991171Z",
     "iopub.status.busy": "2023-03-16T14:50:41.990877Z",
     "iopub.status.idle": "2023-03-16T14:50:42.739182Z",
     "shell.execute_reply": "2023-03-16T14:50:42.738138Z"
    },
    "papermill": {
     "duration": 0.764131,
     "end_time": "2023-03-16T14:50:42.741288",
     "exception": false,
     "start_time": "2023-03-16T14:50:41.977157",
     "status": "completed"
    },
    "tags": []
   },
   "outputs": [
    {
     "name": "stdout",
     "output_type": "stream",
     "text": [
      "4/4 [==============================] - 0s 93ms/step - loss: 0.4435 - accuracy: 0.8346\n"
     ]
    },
    {
     "data": {
      "text/plain": [
       "[0.4435249865055084, 0.834645688533783]"
      ]
     },
     "execution_count": 8,
     "metadata": {},
     "output_type": "execute_result"
    }
   ],
   "source": [
    "model.evaluate(X_test, y_test)"
   ]
  },
  {
   "cell_type": "code",
   "execution_count": 9,
   "id": "92958b51",
   "metadata": {
    "execution": {
     "iopub.execute_input": "2023-03-16T14:50:42.770426Z",
     "iopub.status.busy": "2023-03-16T14:50:42.769600Z",
     "iopub.status.idle": "2023-03-16T14:50:43.397118Z",
     "shell.execute_reply": "2023-03-16T14:50:43.396099Z"
    },
    "papermill": {
     "duration": 0.645214,
     "end_time": "2023-03-16T14:50:43.399877",
     "exception": false,
     "start_time": "2023-03-16T14:50:42.754663",
     "status": "completed"
    },
    "tags": []
   },
   "outputs": [
    {
     "name": "stdout",
     "output_type": "stream",
     "text": [
      "              precision    recall  f1-score   support\n",
      "\n",
      "           0       0.84      0.85      0.84        67\n",
      "           1       0.83      0.82      0.82        60\n",
      "\n",
      "    accuracy                           0.83       127\n",
      "   macro avg       0.83      0.83      0.83       127\n",
      "weighted avg       0.83      0.83      0.83       127\n",
      "\n"
     ]
    }
   ],
   "source": [
    "from sklearn.metrics import confusion_matrix, classification_report\n",
    "\n",
    "y_predicted = model.predict(X_test)\n",
    "y_predicted_rounded = []\n",
    "for v in y_predicted:\n",
    "    if v >= .5:\n",
    "        y_predicted_rounded.append(1)\n",
    "        continue\n",
    "    y_predicted_rounded.append(0)\n",
    "    \n",
    "print(classification_report(y_test, y_predicted_rounded))"
   ]
  },
  {
   "cell_type": "code",
   "execution_count": 10,
   "id": "e64d1f5e",
   "metadata": {
    "execution": {
     "iopub.execute_input": "2023-03-16T14:50:43.440508Z",
     "iopub.status.busy": "2023-03-16T14:50:43.440051Z",
     "iopub.status.idle": "2023-03-16T14:50:43.833288Z",
     "shell.execute_reply": "2023-03-16T14:50:43.832288Z"
    },
    "papermill": {
     "duration": 0.415565,
     "end_time": "2023-03-16T14:50:43.835407",
     "exception": false,
     "start_time": "2023-03-16T14:50:43.419842",
     "status": "completed"
    },
    "tags": []
   },
   "outputs": [
    {
     "data": {
      "text/plain": [
       "Text(69.0, 0.5, 'Truth')"
      ]
     },
     "execution_count": 10,
     "metadata": {},
     "output_type": "execute_result"
    },
    {
     "data": {
      "image/png": "[encoded data removed]",
      "text/plain": [
       "<Figure size 720x504 with 2 Axes>"
      ]
     },
     "metadata": {
      "needs_background": "light"
     },
     "output_type": "display_data"
    }
   ],
   "source": [
    "import seaborn as sn\n",
    "import tensorflow as tf\n",
    "\n",
    "cm = tf.math.confusion_matrix(labels=y_test, predictions=y_predicted_rounded)\n",
    "plt.figure(figsize=(10,7))\n",
    "sn.heatmap(cm, annot=True, fmt='d')\n",
    "plt.xlabel('Predicted')\n",
    "plt.ylabel('Truth')"
   ]
  },
  {
   "cell_type": "code",
   "execution_count": 11,
   "id": "c21f7c89",
   "metadata": {
    "execution": {
     "iopub.execute_input": "2023-03-16T14:50:43.864950Z",
     "iopub.status.busy": "2023-03-16T14:50:43.864596Z",
     "iopub.status.idle": "2023-03-16T14:50:43.870523Z",
     "shell.execute_reply": "2023-03-16T14:50:43.869576Z"
    },
    "papermill": {
     "duration": 0.023111,
     "end_time": "2023-03-16T14:50:43.873000",
     "exception": false,
     "start_time": "2023-03-16T14:50:43.849889",
     "status": "completed"
    },
    "tags": []
   },
   "outputs": [
    {
     "name": "stdout",
     "output_type": "stream",
     "text": [
      "0 1 0\n",
      "27 0 1\n",
      "28 1 0\n",
      "32 1 0\n",
      "34 0 1\n",
      "46 0 1\n",
      "48 1 0\n",
      "53 1 0\n",
      "56 1 0\n",
      "62 0 1\n",
      "63 0 1\n",
      "68 1 0\n",
      "75 0 1\n",
      "77 0 1\n",
      "83 1 0\n",
      "95 0 1\n",
      "100 0 1\n",
      "109 0 1\n",
      "114 1 0\n",
      "117 1 0\n",
      "119 0 1\n"
     ]
    }
   ],
   "source": [
    "for i in range(len(y_predicted_rounded)):\n",
    "    if y_predicted_rounded[i] == y_test[i]:\n",
    "        continue\n",
    "    print(i, y_predicted_rounded[i], y_test[i])"
   ]
  },
  {
   "cell_type": "code",
   "execution_count": 12,
   "id": "a45c65c0",
   "metadata": {
    "execution": {
     "iopub.execute_input": "2023-03-16T14:50:43.901243Z",
     "iopub.status.busy": "2023-03-16T14:50:43.900346Z",
     "iopub.status.idle": "2023-03-16T14:50:43.905600Z",
     "shell.execute_reply": "2023-03-16T14:50:43.904742Z"
    },
    "papermill": {
     "duration": 0.021304,
     "end_time": "2023-03-16T14:50:43.907529",
     "exception": false,
     "start_time": "2023-03-16T14:50:43.886225",
     "status": "completed"
    },
    "tags": []
   },
   "outputs": [],
   "source": [
    "# model.save(\"model.h5\")"
   ]
  },
  {
   "cell_type": "code",
   "execution_count": 13,
   "id": "376c878e",
   "metadata": {
    "execution": {
     "iopub.execute_input": "2023-03-16T14:50:43.934951Z",
     "iopub.status.busy": "2023-03-16T14:50:43.934664Z",
     "iopub.status.idle": "2023-03-16T14:50:43.939484Z",
     "shell.execute_reply": "2023-03-16T14:50:43.938602Z"
    },
    "papermill": {
     "duration": 0.020739,
     "end_time": "2023-03-16T14:50:43.941375",
     "exception": false,
     "start_time": "2023-03-16T14:50:43.920636",
     "status": "completed"
    },
    "tags": []
   },
   "outputs": [],
   "source": [
    "# from tensorflow import keras\n",
    "# model = keras.models.load_model(\"./model.h5\")"
   ]
  },
  {
   "cell_type": "code",
   "execution_count": 14,
   "id": "2d0cb6c8",
   "metadata": {
    "execution": {
     "iopub.execute_input": "2023-03-16T14:50:43.969615Z",
     "iopub.status.busy": "2023-03-16T14:50:43.969020Z",
     "iopub.status.idle": "2023-03-16T14:50:43.977787Z",
     "shell.execute_reply": "2023-03-16T14:50:43.976883Z"
    },
    "papermill": {
     "duration": 0.025046,
     "end_time": "2023-03-16T14:50:43.979743",
     "exception": false,
     "start_time": "2023-03-16T14:50:43.954697",
     "status": "completed"
    },
    "tags": []
   },
   "outputs": [],
   "source": [
    "import cv2\n",
    "import numpy as np\n",
    "import seaborn as sn\n",
    "import tensorflow as tf\n",
    "\n",
    "def test_folder(folder, exp):\n",
    "    imgs = []\n",
    "    y_exp = []\n",
    "    for dirname, _, filenames in os.walk(folder):\n",
    "        for i in range(len(filenames)):\n",
    "            if i > 500:\n",
    "                break\n",
    "            path = os.path.join(dirname, filenames[i])\n",
    "            imgs.append(cv2.resize(cv2.imread(path), (256,256)))\n",
    "            y_exp.append(exp)\n",
    "\n",
    "    imgs = np.array(imgs) / 255\n",
    "    print(imgs.shape)\n",
    "#     imgs = imgs[np.newaxis, ...]\n",
    "#     y_exp = y_exp[np.newaxis, ...]\n",
    "            \n",
    "    from sklearn.metrics import confusion_matrix, classification_report\n",
    "\n",
    "    y_predicted = model.predict(imgs)\n",
    "    y_predicted_rounded = []\n",
    "    for v in y_predicted:\n",
    "        if v >= .5:\n",
    "            y_predicted_rounded.append(1)\n",
    "            continue\n",
    "        y_predicted_rounded.append(0)\n",
    "\n",
    "    print(classification_report(y_exp, y_predicted_rounded))\n",
    "\n",
    "    cm = tf.math.confusion_matrix(labels=y_exp, predictions=y_predicted_rounded)\n",
    "    plt.figure(figsize=(10,7))\n",
    "    sn.heatmap(cm, annot=True, fmt='d')\n",
    "    plt.xlabel('Predicted')\n",
    "    plt.ylabel('Truth')"
   ]
  },
  {
   "cell_type": "code",
   "execution_count": 15,
   "id": "1159f132",
   "metadata": {
    "execution": {
     "iopub.execute_input": "2023-03-16T14:50:44.007615Z",
     "iopub.status.busy": "2023-03-16T14:50:44.006638Z",
     "iopub.status.idle": "2023-03-16T14:50:52.158073Z",
     "shell.execute_reply": "2023-03-16T14:50:52.157173Z"
    },
    "papermill": {
     "duration": 8.167691,
     "end_time": "2023-03-16T14:50:52.160351",
     "exception": false,
     "start_time": "2023-03-16T14:50:43.992660",
     "status": "completed"
    },
    "tags": []
   },
   "outputs": [
    {
     "name": "stdout",
     "output_type": "stream",
     "text": [
      "(501, 256, 256, 3)\n"
     ]
    },
    {
     "name": "stderr",
     "output_type": "stream",
     "text": [
      "/opt/conda/lib/python3.7/site-packages/sklearn/metrics/_classification.py:1318: UndefinedMetricWarning: Recall and F-score are ill-defined and being set to 0.0 in labels with no true samples. Use `zero_division` parameter to control this behavior.\n",
      "  _warn_prf(average, modifier, msg_start, len(result))\n",
      "/opt/conda/lib/python3.7/site-packages/sklearn/metrics/_classification.py:1318: UndefinedMetricWarning: Recall and F-score are ill-defined and being set to 0.0 in labels with no true samples. Use `zero_division` parameter to control this behavior.\n",
      "  _warn_prf(average, modifier, msg_start, len(result))\n",
      "/opt/conda/lib/python3.7/site-packages/sklearn/metrics/_classification.py:1318: UndefinedMetricWarning: Recall and F-score are ill-defined and being set to 0.0 in labels with no true samples. Use `zero_division` parameter to control this behavior.\n",
      "  _warn_prf(average, modifier, msg_start, len(result))\n"
     ]
    },
    {
     "name": "stdout",
     "output_type": "stream",
     "text": [
      "              precision    recall  f1-score   support\n",
      "\n",
      "           0       0.00      0.00      0.00         0\n",
      "           1       1.00      0.29      0.45       501\n",
      "\n",
      "    accuracy                           0.29       501\n",
      "   macro avg       0.50      0.14      0.22       501\n",
      "weighted avg       1.00      0.29      0.45       501\n",
      "\n"
     ]
    },
    {
     "data": {
      "image/png": "[encoded data removed]",
      "text/plain": [
       "<Figure size 720x504 with 2 Axes>"
      ]
     },
     "metadata": {
      "needs_background": "light"
     },
     "output_type": "display_data"
    }
   ],
   "source": [
    "test_folder(\"../input/tuberculosis-tb-chest-xray-dataset/TB_Chest_Radiography_Database/Tuberculosis\", 1)"
   ]
  },
  {
   "cell_type": "code",
   "execution_count": 16,
   "id": "1ad54e7e",
   "metadata": {
    "execution": {
     "iopub.execute_input": "2023-03-16T14:50:52.189284Z",
     "iopub.status.busy": "2023-03-16T14:50:52.188993Z",
     "iopub.status.idle": "2023-03-16T14:51:01.102717Z",
     "shell.execute_reply": "2023-03-16T14:51:01.101791Z"
    },
    "papermill": {
     "duration": 8.930747,
     "end_time": "2023-03-16T14:51:01.105142",
     "exception": false,
     "start_time": "2023-03-16T14:50:52.174395",
     "status": "completed"
    },
    "tags": []
   },
   "outputs": [
    {
     "name": "stdout",
     "output_type": "stream",
     "text": [
      "(501, 256, 256, 3)\n"
     ]
    },
    {
     "name": "stderr",
     "output_type": "stream",
     "text": [
      "/opt/conda/lib/python3.7/site-packages/sklearn/metrics/_classification.py:1318: UndefinedMetricWarning: Recall and F-score are ill-defined and being set to 0.0 in labels with no true samples. Use `zero_division` parameter to control this behavior.\n",
      "  _warn_prf(average, modifier, msg_start, len(result))\n",
      "/opt/conda/lib/python3.7/site-packages/sklearn/metrics/_classification.py:1318: UndefinedMetricWarning: Recall and F-score are ill-defined and being set to 0.0 in labels with no true samples. Use `zero_division` parameter to control this behavior.\n",
      "  _warn_prf(average, modifier, msg_start, len(result))\n",
      "/opt/conda/lib/python3.7/site-packages/sklearn/metrics/_classification.py:1318: UndefinedMetricWarning: Recall and F-score are ill-defined and being set to 0.0 in labels with no true samples. Use `zero_division` parameter to control this behavior.\n",
      "  _warn_prf(average, modifier, msg_start, len(result))\n"
     ]
    },
    {
     "name": "stdout",
     "output_type": "stream",
     "text": [
      "              precision    recall  f1-score   support\n",
      "\n",
      "           0       1.00      0.67      0.80       501\n",
      "           1       0.00      0.00      0.00         0\n",
      "\n",
      "    accuracy                           0.67       501\n",
      "   macro avg       0.50      0.33      0.40       501\n",
      "weighted avg       1.00      0.67      0.80       501\n",
      "\n"
     ]
    },
    {
     "data": {
      "image/png": "[encoded data removed]",
      "text/plain": [
       "<Figure size 720x504 with 2 Axes>"
      ]
     },
     "metadata": {
      "needs_background": "light"
     },
     "output_type": "display_data"
    }
   ],
   "source": [
    "test_folder(\"../input/tuberculosis-tb-chest-xray-dataset/TB_Chest_Radiography_Database/Normal\", 0)"
   ]
  }
 ],
 "metadata": {
  "kernelspec": {
   "display_name": "Python 3",
   "language": "python",
   "name": "python3"
  },
  "language_info": {
   "codemirror_mode": {
    "name": "ipython",
    "version": 3
   },
   "file_extension": ".py",
   "mimetype": "text/x-python",
   "name": "python",
   "nbconvert_exporter": "python",
   "pygments_lexer": "ipython3",
   "version": "3.7.12"
  },
  "papermill": {
   "default_parameters": {},
   "duration": 154.471627,
   "end_time": "2023-03-16T14:51:04.732082",
   "environment_variables": {},
   "exception": null,
   "input_path": "__notebook__.ipynb",
   "output_path": "__notebook__.ipynb",
   "parameters": {},
   "start_time": "2023-03-16T14:48:30.260455",
   "version": "2.3.4"
  }
 },
 "nbformat": 4,
 "nbformat_minor": 5
}
